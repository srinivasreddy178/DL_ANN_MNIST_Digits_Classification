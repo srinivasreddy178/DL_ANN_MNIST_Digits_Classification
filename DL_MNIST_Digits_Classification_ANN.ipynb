{
 "cells": [
  {
   "cell_type": "markdown",
   "id": "491548e2-85c2-4a88-90dc-83c8f70ab8f2",
   "metadata": {},
   "source": [
    "# **MNIST Handwritten Digits Classification using ANN**"
   ]
  },
  {
   "cell_type": "markdown",
   "id": "83f19d6f-7463-4319-a6ab-ef27df1e084b",
   "metadata": {},
   "source": [
    "## **1. Problem Statement : Identify digits from a dataset of handwritten images**"
   ]
  },
  {
   "cell_type": "markdown",
   "id": "891e33b7-9dfd-4ad9-809a-c00c40b31f77",
   "metadata": {},
   "source": [
    "\n",
    "The *MNIST (Modified National Institute of Standards and Technology)* Handwritten Digit Classification Dataset consists of 60,000 training images and 10,000 testing images of handwritten digits.\n",
    "\n",
    "Each image is 28 pixels in height and 28 pixels in width, for a total of 784 pixels in total. Each pixel has a single pixel-value associated with it, indicating the lightness or darkness of that pixel. This pixel-value is an integer between 0 and 255, inclusive.\n",
    "\n",
    "![alt text](https://i.imgur.com/Su00XUA.png)\n",
    "\n"
   ]
  },
  {
   "cell_type": "markdown",
   "id": "a67d9049-32b2-4ebe-83b5-863c948315c2",
   "metadata": {},
   "source": [
    "## **2. Import Libraries**"
   ]
  },
  {
   "cell_type": "code",
   "execution_count": 1,
   "id": "6b2f1b74-5b8a-409a-8e2e-5f4e14267a2f",
   "metadata": {},
   "outputs": [],
   "source": [
    "#=================================================================\n",
    "# For data manipulation, plotting, and miscellaneous\n",
    "#=================================================================\n",
    "import numpy as np\n",
    "import pandas as pd\n",
    "import matplotlib.pyplot as plt\n",
    "%matplotlib inline\n",
    "import seaborn as sns\n",
    "import warnings\n",
    "warnings.filterwarnings(\"ignore\", category=DeprecationWarning)\n",
    "\n",
    "import calendar\n",
    "from datetime import datetime\n",
    "\n",
    "from PIL import Image\n",
    "import cv2  # For Image processing\n",
    "#===============================================================================================\n",
    "# Import Keras models, layers, activation functions\n",
    "#===============================================================================================\n",
    "import tensorflow as tf\n",
    "tf.random.set_seed(3)\n",
    "import keras\n",
    "from keras import datasets, models\n",
    "from keras.datasets import mnist\n",
    "from keras.models import Sequential\n",
    "from keras.layers import Conv2D, MaxPooling2D, BatchNormalization, Flatten, Dense, ReLU, LeakyReLU, Dropout\n",
    "from keras import regularizers\n",
    "from keras import optimizers\n",
    "from keras.optimizers import SGD, Adam, RMSprop\n",
    "from keras.callbacks import EarlyStopping\n",
    "from tensorflow.math import confusion_matrix\n",
    "#=================================================================\n",
    "# From sklearn import required classes\n",
    "#=================================================================\n",
    "from sklearn import metrics\n",
    "from sklearn.metrics import confusion_matrix , classification_report"
   ]
  },
  {
   "cell_type": "markdown",
   "id": "e5336a9d-3d94-4edb-96d2-2852dbb26142",
   "metadata": {},
   "source": [
    "## **3. Load the Dataset and Perform Visualization**"
   ]
  },
  {
   "cell_type": "markdown",
   "id": "bda6969d-5581-4c4e-b954-53c423d955d0",
   "metadata": {},
   "source": [
    "### **3.1. Load the Dataset**"
   ]
  },
  {
   "cell_type": "markdown",
   "id": "14ac1f1f-9ab6-4af5-b658-967500bcdbd3",
   "metadata": {},
   "source": [
    "**Dataset Information:     https://keras.io/api/datasets/mnist/**"
   ]
  },
  {
   "cell_type": "code",
   "execution_count": 2,
   "id": "4ef14d30-c791-479d-95f2-7183be376adf",
   "metadata": {},
   "outputs": [],
   "source": [
    "# Loading MNIST dataset\n",
    "(x_train,y_train), (x_test,y_test) = mnist.load_data()"
   ]
  },
  {
   "cell_type": "markdown",
   "id": "3cb6e021-92e0-48dd-9070-7697ad935dff",
   "metadata": {},
   "source": [
    "### **3.2. Visualize the Data**"
   ]
  },
  {
   "cell_type": "code",
   "execution_count": 3,
   "id": "676ed42a-d7ee-4de8-b370-0b2464df812d",
   "metadata": {},
   "outputs": [
    {
     "name": "stdout",
     "output_type": "stream",
     "text": [
      "(60000, 28, 28)\n",
      "(10000, 28, 28)\n",
      "(60000,)\n",
      "(10000,)\n"
     ]
    }
   ],
   "source": [
    "# shape of arrays\n",
    "# Image dimension  --> 28 x 28\n",
    "# Grayscale Image  --> 1 channel\n",
    "\n",
    "print(x_train.shape)   # Training data = 60,000 Images\n",
    "print(x_test.shape)    # Test data = 10,000 Images\n",
    "print(y_train.shape)\n",
    "print(y_test.shape)"
   ]
  },
  {
   "cell_type": "code",
   "execution_count": 4,
   "id": "571fde51-b82b-489e-a2a1-44d42bf8f7e6",
   "metadata": {},
   "outputs": [
    {
     "name": "stdout",
     "output_type": "stream",
     "text": [
      "(28, 28)\n"
     ]
    }
   ],
   "source": [
    "print(x_train[0].shape)   # image size : 28x28 pixels"
   ]
  },
  {
   "cell_type": "code",
   "execution_count": 5,
   "id": "39e08955-c4ae-4fc4-8331-31f4ef91f649",
   "metadata": {},
   "outputs": [
    {
     "name": "stdout",
     "output_type": "stream",
     "text": [
      "Image label : 4\n"
     ]
    },
    {
     "data": {
      "image/png": "[encoded data removed]",
      "text/plain": [
       "<Figure size 640x480 with 1 Axes>"
      ]
     },
     "metadata": {},
     "output_type": "display_data"
    }
   ],
   "source": [
    "# Displaying the image \n",
    "\n",
    "img_no = 2     # plot the image located at index #\n",
    "\n",
    "plt.imshow(x_train[img_no])                    # plot the image \n",
    "print(\"Image label :\" , y_train[img_no])       # and corresponding label"
   ]
  },
  {
   "cell_type": "code",
   "execution_count": 6,
   "id": "c8c3b7d9-ec1a-41b8-8790-9023ecbe8855",
   "metadata": {},
   "outputs": [
    {
     "name": "stdout",
     "output_type": "stream",
     "text": [
      "[0 1 2 3 4 5 6 7 8 9]\n",
      "[0 1 2 3 4 5 6 7 8 9]\n"
     ]
    }
   ],
   "source": [
    "# Unique values in the y_train \n",
    "print(np.unique(y_train))\n",
    "\n",
    "# Unique values in the y_test \n",
    "print(np.unique(y_test))"
   ]
  },
  {
   "cell_type": "markdown",
   "id": "ad381e40-0b4f-4115-81e4-dd6e73bc28e6",
   "metadata": {},
   "source": [
    "**We can use these labels [0 1 2 3 4 5 6 7 8 9] as such or we can also apply One Hot Encoding                      --> In this project we are NOT using one-hot encoding.**\n",
    "\n",
    "**All the images have the same dimensions in this dataset, If not, we have to resize all the images to a common dimension ---> In this project, it is NOT required to resize the images.**"
   ]
  },
  {
   "cell_type": "markdown",
   "id": "f857f015-50fa-4c83-a25c-fdc6842b4743",
   "metadata": {},
   "source": [
    "### **3.3. Normalizing the Input data**"
   ]
  },
  {
   "cell_type": "code",
   "execution_count": 7,
   "id": "d7156d41-4de3-4e5f-820d-512da7b5590a",
   "metadata": {},
   "outputs": [],
   "source": [
    "# Normalizing the input to be within the range [0,1]\n",
    "#intensity of each pixel is divided by 255 (the maximum intensity value)\n",
    "\n",
    "x_train = x_train / 255\n",
    "x_test = x_test / 255"
   ]
  },
  {
   "cell_type": "code",
   "execution_count": 8,
   "id": "0720460e-acec-470c-9718-15b828da591a",
   "metadata": {},
   "outputs": [
    {
     "name": "stdout",
     "output_type": "stream",
     "text": [
      "0.0 , 1.0\n"
     ]
    }
   ],
   "source": [
    "print(x_test[0].min(), \",\", x_test[0].max())  # for one image located at index # 0"
   ]
  },
  {
   "cell_type": "markdown",
   "id": "83ca941e-040d-4102-8acd-c491f5a1d1d7",
   "metadata": {},
   "source": [
    "## **4. ANN Model**"
   ]
  },
  {
   "cell_type": "markdown",
   "id": "23d1a68a-06f9-4e5c-8a3f-37b853957765",
   "metadata": {},
   "source": [
    "### **4.1. Create ANN Model**"
   ]
  },
  {
   "cell_type": "code",
   "execution_count": 9,
   "id": "7d8b101a-b7b7-4c2d-96a3-0b0b77052d06",
   "metadata": {},
   "outputs": [],
   "source": [
    "input_image_shape = (28,28)   # input image size\n",
    "#===============================================================\n",
    "# create Sequential model \n",
    "\n",
    "model = Sequential()\n",
    "\n",
    "# Since our input is an image data, hence first we need to flatten the image to 1D vector to feed in to ANN,\n",
    "# hence first we will add \"Flatten layer\" as input layer, after that we need to add Dense layer as hidden layer\n",
    "model.add(Flatten(input_shape = input_image_shape, name='Inputlayer')) \n",
    "model.add(Dense(128, activation='relu', name ='Hiddenlayer_1'))\n",
    "model.add(Dense(64, activation='relu', name ='Hiddenlayer_2'))\n",
    "model.add(Dense(10, activation='softmax', name ='Outputlayer'))  # softmax is for multi-class classification, we have 10 classes [0-9]"
   ]
  },
  {
   "cell_type": "code",
   "execution_count": 10,
   "id": "6e7b9fe3-6f2e-4775-ada0-80709415e5fb",
   "metadata": {},
   "outputs": [
    {
     "name": "stdout",
     "output_type": "stream",
     "text": [
      "Model: \"sequential\"\n",
      "_________________________________________________________________\n",
      " Layer (type)                Output Shape              Param #   \n",
      "=================================================================\n",
      " Inputlayer (Flatten)        (None, 784)               0         \n",
      "                                                                 \n",
      " Hiddenlayer_1 (Dense)       (None, 128)               100480    \n",
      "                                                                 \n",
      " Hiddenlayer_2 (Dense)       (None, 64)                8256      \n",
      "                                                                 \n",
      " Outputlayer (Dense)         (None, 10)                650       \n",
      "                                                                 \n",
      "=================================================================\n",
      "Total params: 109,386\n",
      "Trainable params: 109,386\n",
      "Non-trainable params: 0\n",
      "_________________________________________________________________\n"
     ]
    }
   ],
   "source": [
    "model.summary()"
   ]
  },
  {
   "cell_type": "markdown",
   "id": "875d07a5-9ed2-49a6-b023-adcec7ec5a6c",
   "metadata": {
    "id": "SEm5Rs2s7EJa"
   },
   "source": [
    "### **4.2. Compile the model**"
   ]
  },
  {
   "cell_type": "markdown",
   "id": "00cae712-53d3-4bc6-aaf2-d503ffc23bd6",
   "metadata": {
    "id": "vfoAB5IDdHAE"
   },
   "source": [
    "**As our labels (y_train, y_test) are numbers like 0,1,2,3,.. which are not one-hot encoded, so we need to use sparse_categoritcal_crossentropy as loss function.**"
   ]
  },
  {
   "cell_type": "code",
   "execution_count": 11,
   "id": "48a623ee-f76c-42a2-bee1-575ada50d373",
   "metadata": {},
   "outputs": [],
   "source": [
    "model.compile(optimizer='adam', loss='sparse_categorical_crossentropy', metrics=['accuracy'])"
   ]
  },
  {
   "cell_type": "markdown",
   "id": "68d38880-dfde-4bdd-a1eb-7e98d441c05c",
   "metadata": {
    "id": "w6HOcLHmHcjx"
   },
   "source": [
    "### **4.3. Train the Model**"
   ]
  },
  {
   "cell_type": "code",
   "execution_count": 12,
   "id": "50de9096-2417-45e6-bfad-1b15da4809cc",
   "metadata": {},
   "outputs": [
    {
     "name": "stdout",
     "output_type": "stream",
     "text": [
      "Total training data size: 48000.0\n"
     ]
    }
   ],
   "source": [
    "print('Total training data size:',60000*0.8)   # for validation split = 0.2"
   ]
  },
  {
   "cell_type": "code",
   "execution_count": 13,
   "id": "72730f5f-124e-4bef-a67a-1f16e7fdd321",
   "metadata": {},
   "outputs": [
    {
     "name": "stdout",
     "output_type": "stream",
     "text": [
      "Batch size: 375.0\n"
     ]
    }
   ],
   "source": [
    "print('Batch size:', 48000/128.0)  # for batch size = 128 samples"
   ]
  },
  {
   "cell_type": "code",
   "execution_count": 14,
   "id": "8740e368-9ab2-4676-8a87-b6cdbcacbb2b",
   "metadata": {},
   "outputs": [
    {
     "name": "stdout",
     "output_type": "stream",
     "text": [
      "Epoch 1/15\n",
      "375/375 [==============================] - 2s 3ms/step - loss: 0.3760 - accuracy: 0.8941 - val_loss: 0.1901 - val_accuracy: 0.9428\n",
      "Epoch 2/15\n",
      "375/375 [==============================] - 1s 3ms/step - loss: 0.1577 - accuracy: 0.9543 - val_loss: 0.1345 - val_accuracy: 0.9618\n",
      "Epoch 3/15\n",
      "375/375 [==============================] - 1s 3ms/step - loss: 0.1084 - accuracy: 0.9683 - val_loss: 0.1084 - val_accuracy: 0.9670\n",
      "Epoch 4/15\n",
      "375/375 [==============================] - 1s 3ms/step - loss: 0.0821 - accuracy: 0.9752 - val_loss: 0.0999 - val_accuracy: 0.9693\n",
      "Epoch 5/15\n",
      "375/375 [==============================] - 1s 3ms/step - loss: 0.0640 - accuracy: 0.9809 - val_loss: 0.0954 - val_accuracy: 0.9701\n"
     ]
    }
   ],
   "source": [
    "np_epochs = 15\n",
    "batchsize = 128 \n",
    "\n",
    "earlystop = EarlyStopping(monitor='val_accuracy', patience = 3, min_delta = 0.01, mode = 'max')\n",
    "\n",
    "#===========================================================================================\n",
    "training = model.fit(x_train, y_train, \n",
    "                    validation_split=0.2,\n",
    "                    batch_size = batchsize, \n",
    "                    epochs = np_epochs,\n",
    "                    callbacks=[earlystop])"
   ]
  },
  {
   "cell_type": "markdown",
   "id": "ceaa7b0a-e7fa-475c-96e4-cb030db90a80",
   "metadata": {},
   "source": [
    "### **4.4. Save the Trained NN model**"
   ]
  },
  {
   "cell_type": "code",
   "execution_count": 15,
   "id": "a172592b-a988-45e2-aa45-d99d6e6ee707",
   "metadata": {},
   "outputs": [],
   "source": [
    "model.save(\"DL_MNIST_Digits_Classification_ANN_Trained_Model.h5\")"
   ]
  },
  {
   "cell_type": "markdown",
   "id": "13047503-6ab9-4502-a1de-b335ff009406",
   "metadata": {},
   "source": [
    "### **4.5. Plot the Accuracy and Loss history**"
   ]
  },
  {
   "cell_type": "code",
   "execution_count": 16,
   "id": "1c08c3e9-2334-4c70-969c-9ac6c1844234",
   "metadata": {},
   "outputs": [
    {
     "data": {
      "text/plain": [
       "keras.callbacks.History"
      ]
     },
     "execution_count": 16,
     "metadata": {},
     "output_type": "execute_result"
    }
   ],
   "source": [
    "type(training)"
   ]
  },
  {
   "cell_type": "code",
   "execution_count": 17,
   "id": "9dd7cd28-e98c-472c-8c80-6425e48d9774",
   "metadata": {},
   "outputs": [
    {
     "data": {
      "text/plain": [
       "dict"
      ]
     },
     "execution_count": 17,
     "metadata": {},
     "output_type": "execute_result"
    }
   ],
   "source": [
    "type(training.history)   # training history is a dictionary which stores the training log "
   ]
  },
  {
   "cell_type": "code",
   "execution_count": 18,
   "id": "644d050d-fd88-4bfb-b401-8cede6aa2aec",
   "metadata": {},
   "outputs": [
    {
     "data": {
      "text/plain": [
       "dict_keys(['loss', 'accuracy', 'val_loss', 'val_accuracy'])"
      ]
     },
     "execution_count": 18,
     "metadata": {},
     "output_type": "execute_result"
    }
   ],
   "source": [
    "training.history.keys()"
   ]
  },
  {
   "cell_type": "code",
   "execution_count": 19,
   "id": "538aa053-d906-449c-b48e-fdfe7a66c663",
   "metadata": {},
   "outputs": [
    {
     "data": {
      "text/plain": [
       "{'loss': [0.37601733207702637,\n",
       "  0.15770116448402405,\n",
       "  0.10837830603122711,\n",
       "  0.08205565810203552,\n",
       "  0.06395649909973145],\n",
       " 'accuracy': [0.8940625190734863,\n",
       "  0.9543125033378601,\n",
       "  0.9683333039283752,\n",
       "  0.9751874804496765,\n",
       "  0.9808750152587891],\n",
       " 'val_loss': [0.19014805555343628,\n",
       "  0.13446900248527527,\n",
       "  0.10843724757432938,\n",
       "  0.09986796230077744,\n",
       "  0.09538216143846512],\n",
       " 'val_accuracy': [0.9428333044052124,\n",
       "  0.9618333578109741,\n",
       "  0.9670000076293945,\n",
       "  0.9693333506584167,\n",
       "  0.9700833559036255]}"
      ]
     },
     "execution_count": 19,
     "metadata": {},
     "output_type": "execute_result"
    }
   ],
   "source": [
    "training.history"
   ]
  },
  {
   "cell_type": "code",
   "execution_count": 20,
   "id": "3b0600d6-149c-4ea3-8f02-883a70fb0f06",
   "metadata": {},
   "outputs": [
    {
     "data": {
      "image/png": "[encoded data removed]",
      "text/plain": [
       "<Figure size 640x480 with 1 Axes>"
      ]
     },
     "metadata": {},
     "output_type": "display_data"
    },
    {
     "data": {
      "image/png": "[encoded data removed]",
      "text/plain": [
       "<Figure size 640x480 with 1 Axes>"
      ]
     },
     "metadata": {},
     "output_type": "display_data"
    }
   ],
   "source": [
    "#============================================\n",
    "# Plot the accuracy and loss curves \n",
    "#============================================\n",
    "plt.plot(training.history['accuracy'], label='traininig_data')\n",
    "plt.plot(training.history['val_accuracy'], label='validation_data')\n",
    "plt.legend()\n",
    "plt.title(\"model accuracy\")\n",
    "plt.xlabel(\"epoch #\")\n",
    "plt.ylabel(\"accuracy\")\n",
    "plt.show()\n",
    "\n",
    "plt.plot(training.history['loss'], label='traininig_data')\n",
    "plt.plot(training.history['val_loss'], label='validation_data')\n",
    "plt.legend()\n",
    "plt.title(\"model loss\")\n",
    "plt.xlabel(\"epoch #\")\n",
    "plt.ylabel(\"loss\")\n",
    "plt.show()"
   ]
  },
  {
   "cell_type": "markdown",
   "id": "37e772f4-8979-42ed-aadc-4e1febfcae95",
   "metadata": {
    "id": "jS-ZOto-H0Zm"
   },
   "source": [
    "### **4.6. Evaluate the Model on Test Dataset**"
   ]
  },
  {
   "cell_type": "code",
   "execution_count": 21,
   "id": "2cb2ccd8-125e-4fa2-ab19-6b0e943c2050",
   "metadata": {},
   "outputs": [
    {
     "name": "stdout",
     "output_type": "stream",
     "text": [
      "313/313 [==============================] - 1s 2ms/step - loss: 0.0863 - accuracy: 0.9735\n"
     ]
    }
   ],
   "source": [
    "# here first the trained model will predict the labels (y_predict) for the x_test data, then it will compare them with y_test\n",
    "test_loss, test_accuracy = model.evaluate(x_test, y_test)"
   ]
  },
  {
   "cell_type": "code",
   "execution_count": 22,
   "id": "bf55f66b-2bde-4a3d-8eac-3d5cb542d89b",
   "metadata": {},
   "outputs": [
    {
     "name": "stdout",
     "output_type": "stream",
     "text": [
      "Test accuracy :  0.9735000133514404\n"
     ]
    }
   ],
   "source": [
    "print(\"Test accuracy : \", test_accuracy)"
   ]
  },
  {
   "cell_type": "code",
   "execution_count": 23,
   "id": "66aa9865-b3fa-4076-9ce2-46d44e285040",
   "metadata": {},
   "outputs": [
    {
     "name": "stdout",
     "output_type": "stream",
     "text": [
      "(10000, 28, 28)\n"
     ]
    }
   ],
   "source": [
    "print(x_test.shape)"
   ]
  },
  {
   "cell_type": "code",
   "execution_count": 24,
   "id": "9c77c440-3de3-4276-b9c8-12c68f1895c8",
   "metadata": {},
   "outputs": [
    {
     "data": {
      "text/plain": [
       "<matplotlib.image.AxesImage at 0x29e65f608b0>"
      ]
     },
     "execution_count": 24,
     "metadata": {},
     "output_type": "execute_result"
    },
    {
     "data": {
      "image/png": "[encoded data removed]",
      "text/plain": [
       "<Figure size 640x480 with 1 Axes>"
      ]
     },
     "metadata": {},
     "output_type": "display_data"
    }
   ],
   "source": [
    "# first data point in X_test\n",
    "plt.imshow(x_test[0])"
   ]
  },
  {
   "cell_type": "code",
   "execution_count": 25,
   "id": "781309aa-5e90-4c6d-b3cf-967bad1254ca",
   "metadata": {},
   "outputs": [
    {
     "name": "stdout",
     "output_type": "stream",
     "text": [
      "7\n"
     ]
    }
   ],
   "source": [
    "print(y_test[0])   # first label in test data set"
   ]
  },
  {
   "cell_type": "markdown",
   "id": "963e451d-5246-4e0d-a341-ba47b9a81a34",
   "metadata": {},
   "source": [
    "### **4.7. Prediction for Test dataset**"
   ]
  },
  {
   "cell_type": "code",
   "execution_count": 26,
   "id": "b534a35e-26cf-4e2f-8c7b-0377a9561f47",
   "metadata": {},
   "outputs": [
    {
     "name": "stdout",
     "output_type": "stream",
     "text": [
      "313/313 [==============================] - 0s 1ms/step\n"
     ]
    }
   ],
   "source": [
    "y_pred = model.predict(x_test)    #model.predict() gives the probability of each class for each data point"
   ]
  },
  {
   "cell_type": "code",
   "execution_count": 27,
   "id": "ec830e9f-86f8-4733-99d1-00179a3391bf",
   "metadata": {},
   "outputs": [
    {
     "data": {
      "text/plain": [
       "(10000, 10)"
      ]
     },
     "execution_count": 27,
     "metadata": {},
     "output_type": "execute_result"
    }
   ],
   "source": [
    "y_pred.shape"
   ]
  },
  {
   "cell_type": "code",
   "execution_count": 28,
   "id": "9b676ac8-dbd7-453d-b139-0bf82942d683",
   "metadata": {},
   "outputs": [
    {
     "data": {
      "text/plain": [
       "array([8.4601059e-05, 1.3493204e-06, 2.5520034e-04, 6.7705768e-03,\n",
       "       5.2923882e-10, 3.2191069e-06, 1.4655989e-09, 9.9233305e-01,\n",
       "       2.5686939e-05, 5.2640948e-04], dtype=float32)"
      ]
     },
     "execution_count": 28,
     "metadata": {},
     "output_type": "execute_result"
    }
   ],
   "source": [
    "y_pred[0]"
   ]
  },
  {
   "cell_type": "code",
   "execution_count": 29,
   "id": "5ca897ff-0a27-4776-b242-b7785716adfa",
   "metadata": {},
   "outputs": [
    {
     "data": {
      "text/plain": [
       "7"
      ]
     },
     "execution_count": 29,
     "metadata": {},
     "output_type": "execute_result"
    }
   ],
   "source": [
    "np.argmax(y_pred[0])  # index value of the maximum probability value which is nothing but class value"
   ]
  },
  {
   "cell_type": "code",
   "execution_count": 30,
   "id": "06697aea-14bd-4877-9e86-0022692155d5",
   "metadata": {},
   "outputs": [],
   "source": [
    "#converting the prediction probabilities to class label for all test data point\n",
    "\n",
    "y_pred_labels = [np.argmax(x) for x in y_pred]  # List comprehension"
   ]
  },
  {
   "cell_type": "code",
   "execution_count": 31,
   "id": "786fead2-de5c-45a4-a926-1fbb7a2a0fcb",
   "metadata": {},
   "outputs": [
    {
     "data": {
      "text/plain": [
       "list"
      ]
     },
     "execution_count": 31,
     "metadata": {},
     "output_type": "execute_result"
    }
   ],
   "source": [
    "type(y_pred_labels)"
   ]
  },
  {
   "cell_type": "code",
   "execution_count": 32,
   "id": "96778983-275f-4443-a0a8-b36e9835efc9",
   "metadata": {},
   "outputs": [
    {
     "data": {
      "text/plain": [
       "7"
      ]
     },
     "execution_count": 32,
     "metadata": {},
     "output_type": "execute_result"
    }
   ],
   "source": [
    "y_pred_labels[0]"
   ]
  },
  {
   "cell_type": "markdown",
   "id": "802caafc-8d12-4daa-ab2f-ef5902b06a9c",
   "metadata": {},
   "source": [
    "### **4.8. Confusion Matrix**"
   ]
  },
  {
   "cell_type": "markdown",
   "id": "0053382c-9dca-4c55-9fa5-5aacda47b4d9",
   "metadata": {
    "id": "sEElzNG8wx-x"
   },
   "source": [
    "y_test  -->  True labels\n",
    "\n",
    "y_pred_labels  -->  Predicted Labels"
   ]
  },
  {
   "cell_type": "code",
   "execution_count": 33,
   "id": "619ff741-55d9-48ed-bf56-6ccaa0895e4d",
   "metadata": {},
   "outputs": [],
   "source": [
    "confusion_mat = confusion_matrix(y_test, y_pred_labels)"
   ]
  },
  {
   "cell_type": "code",
   "execution_count": 34,
   "id": "32d6b86a-4fec-47a4-bc55-ec7de27d8b27",
   "metadata": {},
   "outputs": [
    {
     "data": {
      "text/plain": [
       "array([[ 972,    1,    0,    2,    2,    1,    0,    0,    1,    1],\n",
       "       [   0, 1121,    4,    1,    0,    0,    4,    1,    4,    0],\n",
       "       [  10,    2, 1004,    5,    0,    0,    2,    5,    4,    0],\n",
       "       [   2,    0,    3,  987,    0,    5,    0,    3,    5,    5],\n",
       "       [   3,    1,    4,    0,  963,    0,    2,    2,    0,    7],\n",
       "       [   3,    1,    0,    8,    1,  864,    4,    1,    6,    4],\n",
       "       [  14,    2,    2,    0,    5,    5,  928,    0,    2,    0],\n",
       "       [   3,    9,   12,    2,    1,    0,    0,  985,    1,   15],\n",
       "       [   8,    3,    3,    2,    4,    5,    4,    2,  939,    4],\n",
       "       [   5,    5,    0,    4,   14,    4,    0,    3,    2,  972]],\n",
       "      dtype=int64)"
      ]
     },
     "execution_count": 34,
     "metadata": {},
     "output_type": "execute_result"
    }
   ],
   "source": [
    "confusion_mat"
   ]
  },
  {
   "cell_type": "code",
   "execution_count": 35,
   "id": "5bdc049d-dd54-425d-adcd-a5557ff4327b",
   "metadata": {},
   "outputs": [
    {
     "data": {
      "text/plain": [
       "Text(0.5, 36.72222222222221, 'Predicted Labels')"
      ]
     },
     "execution_count": 35,
     "metadata": {},
     "output_type": "execute_result"
    },
    {
     "data": {
      "image/png": "[encoded data removed]",
      "text/plain": [
       "<Figure size 1300x600 with 2 Axes>"
      ]
     },
     "metadata": {},
     "output_type": "display_data"
    }
   ],
   "source": [
    "plt.figure(figsize=(13,6))\n",
    "sns.heatmap(confusion_mat, annot=True, fmt='d', cmap='Blues')\n",
    "plt.ylabel('True Labels')\n",
    "plt.xlabel('Predicted Labels')"
   ]
  },
  {
   "cell_type": "markdown",
   "id": "519a4a4c-450e-4ca0-b2fc-b4bfefc2f2f0",
   "metadata": {},
   "source": [
    "For Example : 968 images of Class '0' are predicted correctly, \n",
    "\n",
    "1122 images of Class '1' are predicted correctly ....\n",
    "\n",
    "The values in the diagonal are correct predictions, rest are incorrect predictions."
   ]
  },
  {
   "cell_type": "markdown",
   "id": "3e07e351-bca0-4922-9d34-bcba48c9794c",
   "metadata": {},
   "source": [
    "### **4.9. Classification Report**"
   ]
  },
  {
   "cell_type": "code",
   "execution_count": 36,
   "id": "912d82d0-357c-48a5-8e7e-4641f9173250",
   "metadata": {},
   "outputs": [
    {
     "name": "stdout",
     "output_type": "stream",
     "text": [
      "313/313 [==============================] - 0s 1ms/step\n",
      "-------------------------------------------------------------------\n",
      "Classification Report: \n",
      "               precision    recall  f1-score   support\n",
      "\n",
      "           0       0.95      0.99      0.97       980\n",
      "           1       0.98      0.99      0.98      1135\n",
      "           2       0.97      0.97      0.97      1032\n",
      "           3       0.98      0.98      0.98      1010\n",
      "           4       0.97      0.98      0.98       982\n",
      "           5       0.98      0.97      0.97       892\n",
      "           6       0.98      0.97      0.98       958\n",
      "           7       0.98      0.96      0.97      1028\n",
      "           8       0.97      0.96      0.97       974\n",
      "           9       0.96      0.96      0.96      1009\n",
      "\n",
      "    accuracy                           0.97     10000\n",
      "   macro avg       0.97      0.97      0.97     10000\n",
      "weighted avg       0.97      0.97      0.97     10000\n",
      "\n",
      "-------------------------------------------------------------------\n",
      "Classification accuracy on Test Dataset: 0.973500\n"
     ]
    }
   ],
   "source": [
    "# Print a Classification Report and the accuracy score (classification accuracy)\n",
    "#===================================================================================================\n",
    "from sklearn.metrics import confusion_matrix , classification_report\n",
    "# sklearn.metrics.classification_report(y_true, y_pred,)\n",
    "\n",
    "y_pred = model.predict(x_test)\n",
    "y_pred_classes = [np.argmax(element) for element in y_pred]     # get the maximum probability class number (here it is same as index value)\n",
    "\n",
    "print(\"-------------------------------------------------------------------\")\n",
    "print(\"Classification Report: \\n\", classification_report(y_test, y_pred_classes))\n",
    "\n",
    "print(\"-------------------------------------------------------------------\")\n",
    "print(\"Classification accuracy on Test Dataset: %0.6f\" % metrics.accuracy_score(y_test, y_pred_classes))"
   ]
  },
  {
   "cell_type": "markdown",
   "id": "f4ac82a0-4073-4d9e-83fc-dca1a2dc2b52",
   "metadata": {},
   "source": [
    "### **4.10. Prediction System**"
   ]
  },
  {
   "cell_type": "markdown",
   "id": "f1ae44a3-05d5-4483-9f78-fa1b776249af",
   "metadata": {},
   "source": [
    "#### **4.10.1. For Image from Test Dataset**"
   ]
  },
  {
   "cell_type": "code",
   "execution_count": 37,
   "id": "a098665e-8b07-4223-a8c9-9f248c9ae549",
   "metadata": {},
   "outputs": [
    {
     "name": "stdout",
     "output_type": "stream",
     "text": [
      "1/1 [==============================] - 0s 48ms/step\n",
      "predicted probability :  [[3.8926974e-06 1.2447589e-04 1.1699327e-06 6.8081543e-03 4.1705610e-07\n",
      "  9.9278331e-01 6.8110144e-06 1.0135957e-06 1.4549417e-04 1.2511833e-04]]\n",
      " \n",
      "======================================================\n",
      "    Actual Label: 5\n",
      "    Predicted Label: 5\n",
      "======================================================\n"
     ]
    },
    {
     "data": {
      "text/plain": [
       "<matplotlib.image.AxesImage at 0x29f57df3eb0>"
      ]
     },
     "execution_count": 37,
     "metadata": {},
     "output_type": "execute_result"
    },
    {
     "data": {
      "image/png": "[encoded data removed]",
      "text/plain": [
       "<Figure size 640x480 with 1 Axes>"
      ]
     },
     "metadata": {},
     "output_type": "display_data"
    }
   ],
   "source": [
    "\n",
    "test_sample_index = 15  # index value of the sample (from test dataset), for which prediction will be made\n",
    "\n",
    "#==========================================================================================\n",
    "\n",
    "prediction = model.predict(x_test[test_sample_index])\n",
    "print(\"predicted probability : \", prediction)\n",
    "\n",
    "prediction_label = np.argmax(prediction)  # finding the index of maximum probability value\n",
    "\n",
    "print(\" \")\n",
    "print(\"======================================================\")\n",
    "print(\"    Actual Label:\" , y_test[test_sample_index])\n",
    "print(\"    Predicted Label:\", prediction_label )\n",
    "print(\"======================================================\")\n",
    "\n",
    "plt.imshow(x_test[test_sample_index])"
   ]
  },
  {
   "cell_type": "markdown",
   "id": "3f7952fa-4c61-41bb-9f97-f44e94ef443e",
   "metadata": {},
   "source": [
    "#### **4.10.2. For an imported Image**"
   ]
  },
  {
   "cell_type": "code",
   "execution_count": 38,
   "id": "81a574e5-a31c-4209-b188-c27c83fa44bc",
   "metadata": {},
   "outputs": [],
   "source": [
    "img = cv2.imread('MNIST_digit.png')"
   ]
  },
  {
   "cell_type": "code",
   "execution_count": 39,
   "id": "ff4b8c1b-5eb2-46b5-b5c2-ff77dff70ba7",
   "metadata": {},
   "outputs": [
    {
     "data": {
      "text/plain": [
       "(318, 318, 3)"
      ]
     },
     "execution_count": 39,
     "metadata": {},
     "output_type": "execute_result"
    }
   ],
   "source": [
    "img.shape   # it is a colored image"
   ]
  },
  {
   "cell_type": "code",
   "execution_count": 40,
   "id": "4a1756be-49cb-40b1-9a2f-accc356bb254",
   "metadata": {},
   "outputs": [
    {
     "data": {
      "text/plain": [
       "<matplotlib.image.AxesImage at 0x29f57abb4c0>"
      ]
     },
     "execution_count": 40,
     "metadata": {},
     "output_type": "execute_result"
    },
    {
     "data": {
      "image/png": "[encoded data removed]",
      "text/plain": [
       "<Figure size 640x480 with 1 Axes>"
      ]
     },
     "metadata": {},
     "output_type": "display_data"
    }
   ],
   "source": [
    "plt.imshow(img)"
   ]
  },
  {
   "cell_type": "code",
   "execution_count": 41,
   "id": "cb0a4a0f-e5c4-4308-a773-8c081ab11591",
   "metadata": {},
   "outputs": [],
   "source": [
    "img_grayscale = cv2.cvtColor(img,cv2.COLOR_RGB2GRAY)"
   ]
  },
  {
   "cell_type": "code",
   "execution_count": 42,
   "id": "445147e4-b278-4b99-88c0-9c93f0b7013a",
   "metadata": {},
   "outputs": [
    {
     "data": {
      "text/plain": [
       "(318, 318)"
      ]
     },
     "execution_count": 42,
     "metadata": {},
     "output_type": "execute_result"
    }
   ],
   "source": [
    "img_grayscale.shape"
   ]
  },
  {
   "cell_type": "code",
   "execution_count": 43,
   "id": "3a6f87d5-dd1e-4210-b346-9176a1c24a52",
   "metadata": {},
   "outputs": [],
   "source": [
    "img_resize = cv2.resize(img_grayscale,(28,28))"
   ]
  },
  {
   "cell_type": "code",
   "execution_count": 44,
   "id": "5bf1e7c3-2998-4708-a031-adc6a8b4289e",
   "metadata": {},
   "outputs": [
    {
     "data": {
      "text/plain": [
       "(28, 28)"
      ]
     },
     "execution_count": 44,
     "metadata": {},
     "output_type": "execute_result"
    }
   ],
   "source": [
    "img_resize.shape"
   ]
  },
  {
   "cell_type": "code",
   "execution_count": 45,
   "id": "dc8251eb-1280-4284-96d2-50b5aa25235b",
   "metadata": {},
   "outputs": [
    {
     "data": {
      "text/plain": [
       "<matplotlib.image.AxesImage at 0x29f58033580>"
      ]
     },
     "execution_count": 45,
     "metadata": {},
     "output_type": "execute_result"
    },
    {
     "data": {
      "image/png": "[encoded data removed]",
      "text/plain": [
       "<Figure size 640x480 with 1 Axes>"
      ]
     },
     "metadata": {},
     "output_type": "display_data"
    }
   ],
   "source": [
    "plt.imshow(img_resize)"
   ]
  },
  {
   "cell_type": "code",
   "execution_count": 46,
   "id": "7437eab7-b2f3-407e-b7e8-6aaf88d532a8",
   "metadata": {},
   "outputs": [],
   "source": [
    "# since we trained our ANN model with scaled images, so we need to input the scaled image for prediction\n",
    "img_resize_scaled = img_resize/255 "
   ]
  },
  {
   "cell_type": "code",
   "execution_count": 47,
   "id": "34b331ac-4cfd-4299-b206-54a5ec1a4503",
   "metadata": {},
   "outputs": [],
   "source": [
    "img_reshaped = np.reshape(img_resize_scaled, [1,28,28])  \n",
    "# since we are giving only one image for prediction, hence mentioned [1,28,28], 1 will be changed as per the number of images "
   ]
  },
  {
   "cell_type": "code",
   "execution_count": 48,
   "id": "978ee5a6-1ec4-4002-ac7c-a6be08a49084",
   "metadata": {},
   "outputs": [
    {
     "name": "stdout",
     "output_type": "stream",
     "text": [
      "1/1 [==============================] - 0s 17ms/step\n",
      "predicted probability :  [[3.7423950e-10 1.7705805e-09 7.6761175e-09 9.9999821e-01 8.8609845e-15\n",
      "  3.6143224e-08 2.8676684e-15 4.9787370e-09 4.6055106e-07 1.3635271e-06]]\n",
      " \n",
      "======================================================\n",
      "    Predicted Label: 3\n",
      "======================================================\n"
     ]
    },
    {
     "data": {
      "text/plain": [
       "<matplotlib.image.AxesImage at 0x29f580c2860>"
      ]
     },
     "execution_count": 48,
     "metadata": {},
     "output_type": "execute_result"
    },
    {
     "data": {
      "image/png": "[encoded data removed]",
      "text/plain": [
       "<Figure size 640x480 with 1 Axes>"
      ]
     },
     "metadata": {},
     "output_type": "display_data"
    }
   ],
   "source": [
    "img_predicted_prob = model.predict(img_reshaped)\n",
    "print(\"predicted probability : \", img_predicted_prob)\n",
    "\n",
    "img_predicted_label = np.argmax(img_predicted_prob)  # finding the index of maximum probability value\n",
    "\n",
    "print(\" \")\n",
    "print(\"======================================================\")\n",
    "print(\"    Predicted Label:\", img_predicted_label )\n",
    "print(\"======================================================\")\n",
    "\n",
    "plt.imshow(img)\n"
   ]
  },
  {
   "cell_type": "markdown",
   "id": "68c19fc0-85f9-41e6-9c18-64603929cacd",
   "metadata": {},
   "source": [
    "## **End of the Project**"
   ]
  }
 ],
 "metadata": {
  "kernelspec": {
   "display_name": "Python 3 (ipykernel)",
   "language": "python",
   "name": "python3"
  },
  "language_info": {
   "codemirror_mode": {
    "name": "ipython",
    "version": 3
   },
   "file_extension": ".py",
   "mimetype": "text/x-python",
   "name": "python",
   "nbconvert_exporter": "python",
   "pygments_lexer": "ipython3",
   "version": "3.10.14"
  }
 },
 "nbformat": 4,
 "nbformat_minor": 5
}
